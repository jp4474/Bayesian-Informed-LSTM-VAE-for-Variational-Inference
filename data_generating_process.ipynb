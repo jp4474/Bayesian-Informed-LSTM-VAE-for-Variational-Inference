{
 "cells": [
  {
   "cell_type": "code",
   "execution_count": 8,
   "metadata": {},
   "outputs": [],
   "source": [
    "import numpy as np\n",
    "import pandas as pd\n",
    "import pickle\n",
    "import os\n",
    "from scipy.integrate import odeint, solve_ivp\n",
    "from sklearn.preprocessing import StandardScaler\n",
    "import matplotlib.pyplot as plt\n",
    "import argparse\n",
    "from tqdm.notebook import trange, tqdm\n",
    "from scipy.stats import qmc, norm, truncnorm\n"
   ]
  },
  {
   "cell_type": "code",
   "execution_count": 9,
   "metadata": {},
   "outputs": [],
   "source": [
    "def ode_system(t, state, alpha, beta, delta):\n",
    "    x, y = state\n",
    "    dotx = alpha * (2 * y + x) - (beta + delta) * x \n",
    "    doty = beta * x - (alpha + delta) * y\n",
    "    return [dotx, doty]"
   ]
  },
  {
   "cell_type": "code",
   "execution_count": 10,
   "metadata": {},
   "outputs": [],
   "source": [
    "# We assume that the parameters follow a normal distribution with the following mean and sd\n",
    "# parameters: alpha, beta, delta, x0, y0, eps1, eps2\n",
    "prior_means = [0.008, 0.01, 0.003, 6.0, 9.0, 0.0, 0.0]\n",
    "prior_sds = [0.01, 0.01, 0.01, 0.8, 1.5, 0.1, 0.15]\n",
    "# prior_sds = [0.02, 0.02, 0.01, 0.8, 1.5, 0.1, 0.15]\n",
    "\n",
    "# prior_means = [0, 0, 0, 6.0, 9.0, 0.0, 0.0]\n",
    "# prior_sds = [0.01, 0.02, 0.01, 0.8, 1.5, 0.1, 0.15]\n"
   ]
  },
  {
   "cell_type": "code",
   "execution_count": 11,
   "metadata": {},
   "outputs": [
    {
     "data": {
      "text/html": [
       "<div>\n",
       "<style scoped>\n",
       "    .dataframe tbody tr th:only-of-type {\n",
       "        vertical-align: middle;\n",
       "    }\n",
       "\n",
       "    .dataframe tbody tr th {\n",
       "        vertical-align: top;\n",
       "    }\n",
       "\n",
       "    .dataframe thead th {\n",
       "        text-align: right;\n",
       "    }\n",
       "</style>\n",
       "<table border=\"1\" class=\"dataframe\">\n",
       "  <thead>\n",
       "    <tr style=\"text-align: right;\">\n",
       "      <th></th>\n",
       "      <th>Comp1</th>\n",
       "      <th>Comp2</th>\n",
       "      <th>Time</th>\n",
       "      <th>Log_Comp1</th>\n",
       "      <th>Log_Comp2</th>\n",
       "      <th>Comp1_noise</th>\n",
       "      <th>Comp2_noise</th>\n",
       "    </tr>\n",
       "  </thead>\n",
       "  <tbody>\n",
       "    <tr>\n",
       "      <th>0</th>\n",
       "      <td>2978.780220</td>\n",
       "      <td>2514.667971</td>\n",
       "      <td>9.030100</td>\n",
       "      <td>7.734868</td>\n",
       "      <td>6.838724</td>\n",
       "      <td>2286.706969</td>\n",
       "      <td>933.297333</td>\n",
       "    </tr>\n",
       "    <tr>\n",
       "      <th>1</th>\n",
       "      <td>2850.589991</td>\n",
       "      <td>2653.340649</td>\n",
       "      <td>10.033445</td>\n",
       "      <td>8.210944</td>\n",
       "      <td>8.405288</td>\n",
       "      <td>3681.016640</td>\n",
       "      <td>4470.645982</td>\n",
       "    </tr>\n",
       "    <tr>\n",
       "      <th>2</th>\n",
       "      <td>1621.705654</td>\n",
       "      <td>4031.096970</td>\n",
       "      <td>24.080268</td>\n",
       "      <td>7.193893</td>\n",
       "      <td>7.884970</td>\n",
       "      <td>1331.275269</td>\n",
       "      <td>2657.046000</td>\n",
       "    </tr>\n",
       "    <tr>\n",
       "      <th>3</th>\n",
       "      <td>992.354387</td>\n",
       "      <td>4835.524659</td>\n",
       "      <td>40.133779</td>\n",
       "      <td>5.977940</td>\n",
       "      <td>9.628795</td>\n",
       "      <td>394.626671</td>\n",
       "      <td>15196.109014</td>\n",
       "    </tr>\n",
       "    <tr>\n",
       "      <th>4</th>\n",
       "      <td>924.348734</td>\n",
       "      <td>4936.955813</td>\n",
       "      <td>43.143813</td>\n",
       "      <td>6.517092</td>\n",
       "      <td>8.885697</td>\n",
       "      <td>676.607668</td>\n",
       "      <td>7227.854006</td>\n",
       "    </tr>\n",
       "  </tbody>\n",
       "</table>\n",
       "</div>"
      ],
      "text/plain": [
       "         Comp1        Comp2       Time  Log_Comp1  Log_Comp2  Comp1_noise  \\\n",
       "0  2978.780220  2514.667971   9.030100   7.734868   6.838724  2286.706969   \n",
       "1  2850.589991  2653.340649  10.033445   8.210944   8.405288  3681.016640   \n",
       "2  1621.705654  4031.096970  24.080268   7.193893   7.884970  1331.275269   \n",
       "3   992.354387  4835.524659  40.133779   5.977940   9.628795   394.626671   \n",
       "4   924.348734  4936.955813  43.143813   6.517092   8.885697   676.607668   \n",
       "\n",
       "    Comp2_noise  \n",
       "0    933.297333  \n",
       "1   4470.645982  \n",
       "2   2657.046000  \n",
       "3  15196.109014  \n",
       "4   7227.854006  "
      ]
     },
     "execution_count": 11,
     "metadata": {},
     "output_type": "execute_result"
    }
   ],
   "source": [
    "df_obs = pd.read_csv('data_1/data.csv')\n",
    "df_obs.head()"
   ]
  },
  {
   "cell_type": "code",
   "execution_count": 12,
   "metadata": {},
   "outputs": [],
   "source": [
    "time_space = df_obs['Time']"
   ]
  },
  {
   "cell_type": "code",
   "execution_count": 13,
   "metadata": {},
   "outputs": [],
   "source": [
    "def sample_truncnorm(mean, sd, lower, upper):\n",
    "    a, b = (lower - mean) / sd, (upper - mean) / sd\n",
    "    return truncnorm.rvs(a, b, loc=mean, scale=sd)"
   ]
  },
  {
   "cell_type": "code",
   "execution_count": 14,
   "metadata": {},
   "outputs": [
    {
     "data": {
      "application/vnd.jupyter.widget-view+json": {
       "model_id": "31c228a02c2448f083c12a85bb9bf37c",
       "version_major": 2,
       "version_minor": 0
      },
      "text/plain": [
       "  0%|          | 0/50000 [00:00<?, ?it/s]"
      ]
     },
     "metadata": {},
     "output_type": "display_data"
    },
    {
     "ename": "KeyboardInterrupt",
     "evalue": "",
     "output_type": "error",
     "traceback": [
      "\u001b[0;31m---------------------------------------------------------------------------\u001b[0m",
      "\u001b[0;31mKeyboardInterrupt\u001b[0m                         Traceback (most recent call last)",
      "Cell \u001b[0;32mIn[14], line 48\u001b[0m\n\u001b[1;32m     46\u001b[0m \u001b[38;5;28;01massert\u001b[39;00m \u001b[38;5;28mall\u001b[39m(t \u001b[38;5;241m<\u001b[39m\u001b[38;5;241m=\u001b[39m tmax \u001b[38;5;129;01mand\u001b[39;00m t \u001b[38;5;241m>\u001b[39m\u001b[38;5;241m=\u001b[39m t0 \u001b[38;5;28;01mfor\u001b[39;00m t \u001b[38;5;129;01min\u001b[39;00m time_space)\n\u001b[1;32m     47\u001b[0m state0 \u001b[38;5;241m=\u001b[39m [x0, y0]\n\u001b[0;32m---> 48\u001b[0m res \u001b[38;5;241m=\u001b[39m \u001b[43msolve_ivp\u001b[49m\u001b[43m(\u001b[49m\u001b[43mode_system\u001b[49m\u001b[43m,\u001b[49m\u001b[43m \u001b[49m\u001b[43m[\u001b[49m\u001b[43mt0\u001b[49m\u001b[43m,\u001b[49m\u001b[43m \u001b[49m\u001b[43mtmax\u001b[49m\u001b[43m]\u001b[49m\u001b[43m,\u001b[49m\u001b[43m \u001b[49m\u001b[43my0\u001b[49m\u001b[38;5;241;43m=\u001b[39;49m\u001b[43mstate0\u001b[49m\u001b[43m,\u001b[49m\u001b[43m \u001b[49m\u001b[43mt_eval\u001b[49m\u001b[38;5;241;43m=\u001b[39;49m\u001b[43mtime_space\u001b[49m\u001b[43m,\u001b[49m\u001b[43m \u001b[49m\u001b[43margs\u001b[49m\u001b[38;5;241;43m=\u001b[39;49m\u001b[43m(\u001b[49m\u001b[43malpha\u001b[49m\u001b[43m,\u001b[49m\u001b[43m \u001b[49m\u001b[43mbeta\u001b[49m\u001b[43m,\u001b[49m\u001b[43m \u001b[49m\u001b[43mdelta\u001b[49m\u001b[43m)\u001b[49m\u001b[43m)\u001b[49m\n\u001b[1;32m     50\u001b[0m \u001b[38;5;66;03m# Extract the individual trajectories.\u001b[39;00m\n\u001b[1;32m     51\u001b[0m x, y \u001b[38;5;241m=\u001b[39m res\u001b[38;5;241m.\u001b[39my\n",
      "File \u001b[0;32m~/.venv/lib/python3.10/site-packages/scipy/integrate/_ivp/ivp.py:702\u001b[0m, in \u001b[0;36msolve_ivp\u001b[0;34m(fun, t_span, y0, method, t_eval, dense_output, events, vectorized, args, **options)\u001b[0m\n\u001b[1;32m    699\u001b[0m \u001b[38;5;28;01melse\u001b[39;00m:\n\u001b[1;32m    700\u001b[0m     \u001b[38;5;66;03m# The value in t_eval equal to t will be included.\u001b[39;00m\n\u001b[1;32m    701\u001b[0m     \u001b[38;5;28;01mif\u001b[39;00m solver\u001b[38;5;241m.\u001b[39mdirection \u001b[38;5;241m>\u001b[39m \u001b[38;5;241m0\u001b[39m:\n\u001b[0;32m--> 702\u001b[0m         t_eval_i_new \u001b[38;5;241m=\u001b[39m \u001b[43mnp\u001b[49m\u001b[38;5;241;43m.\u001b[39;49m\u001b[43msearchsorted\u001b[49m\u001b[43m(\u001b[49m\u001b[43mt_eval\u001b[49m\u001b[43m,\u001b[49m\u001b[43m \u001b[49m\u001b[43mt\u001b[49m\u001b[43m,\u001b[49m\u001b[43m \u001b[49m\u001b[43mside\u001b[49m\u001b[38;5;241;43m=\u001b[39;49m\u001b[38;5;124;43m'\u001b[39;49m\u001b[38;5;124;43mright\u001b[39;49m\u001b[38;5;124;43m'\u001b[39;49m\u001b[43m)\u001b[49m\n\u001b[1;32m    703\u001b[0m         t_eval_step \u001b[38;5;241m=\u001b[39m t_eval[t_eval_i:t_eval_i_new]\n\u001b[1;32m    704\u001b[0m     \u001b[38;5;28;01melse\u001b[39;00m:\n",
      "File \u001b[0;32m~/.venv/lib/python3.10/site-packages/numpy/_core/fromnumeric.py:1471\u001b[0m, in \u001b[0;36msearchsorted\u001b[0;34m(a, v, side, sorter)\u001b[0m\n\u001b[1;32m   1402\u001b[0m \u001b[38;5;129m@array_function_dispatch\u001b[39m(_searchsorted_dispatcher)\n\u001b[1;32m   1403\u001b[0m \u001b[38;5;28;01mdef\u001b[39;00m \u001b[38;5;21msearchsorted\u001b[39m(a, v, side\u001b[38;5;241m=\u001b[39m\u001b[38;5;124m'\u001b[39m\u001b[38;5;124mleft\u001b[39m\u001b[38;5;124m'\u001b[39m, sorter\u001b[38;5;241m=\u001b[39m\u001b[38;5;28;01mNone\u001b[39;00m):\n\u001b[1;32m   1404\u001b[0m \u001b[38;5;250m    \u001b[39m\u001b[38;5;124;03m\"\"\"\u001b[39;00m\n\u001b[1;32m   1405\u001b[0m \u001b[38;5;124;03m    Find indices where elements should be inserted to maintain order.\u001b[39;00m\n\u001b[1;32m   1406\u001b[0m \n\u001b[0;32m   (...)\u001b[0m\n\u001b[1;32m   1469\u001b[0m \n\u001b[1;32m   1470\u001b[0m \u001b[38;5;124;03m    \"\"\"\u001b[39;00m\n\u001b[0;32m-> 1471\u001b[0m     \u001b[38;5;28;01mreturn\u001b[39;00m \u001b[43m_wrapfunc\u001b[49m\u001b[43m(\u001b[49m\u001b[43ma\u001b[49m\u001b[43m,\u001b[49m\u001b[43m \u001b[49m\u001b[38;5;124;43m'\u001b[39;49m\u001b[38;5;124;43msearchsorted\u001b[39;49m\u001b[38;5;124;43m'\u001b[39;49m\u001b[43m,\u001b[49m\u001b[43m \u001b[49m\u001b[43mv\u001b[49m\u001b[43m,\u001b[49m\u001b[43m \u001b[49m\u001b[43mside\u001b[49m\u001b[38;5;241;43m=\u001b[39;49m\u001b[43mside\u001b[49m\u001b[43m,\u001b[49m\u001b[43m \u001b[49m\u001b[43msorter\u001b[49m\u001b[38;5;241;43m=\u001b[39;49m\u001b[43msorter\u001b[49m\u001b[43m)\u001b[49m\n",
      "File \u001b[0;32m~/.venv/lib/python3.10/site-packages/numpy/_core/fromnumeric.py:57\u001b[0m, in \u001b[0;36m_wrapfunc\u001b[0;34m(obj, method, *args, **kwds)\u001b[0m\n\u001b[1;32m     54\u001b[0m     \u001b[38;5;28;01mreturn\u001b[39;00m _wrapit(obj, method, \u001b[38;5;241m*\u001b[39margs, \u001b[38;5;241m*\u001b[39m\u001b[38;5;241m*\u001b[39mkwds)\n\u001b[1;32m     56\u001b[0m \u001b[38;5;28;01mtry\u001b[39;00m:\n\u001b[0;32m---> 57\u001b[0m     \u001b[38;5;28;01mreturn\u001b[39;00m \u001b[43mbound\u001b[49m\u001b[43m(\u001b[49m\u001b[38;5;241;43m*\u001b[39;49m\u001b[43margs\u001b[49m\u001b[43m,\u001b[49m\u001b[43m \u001b[49m\u001b[38;5;241;43m*\u001b[39;49m\u001b[38;5;241;43m*\u001b[39;49m\u001b[43mkwds\u001b[49m\u001b[43m)\u001b[49m\n\u001b[1;32m     58\u001b[0m \u001b[38;5;28;01mexcept\u001b[39;00m \u001b[38;5;167;01mTypeError\u001b[39;00m:\n\u001b[1;32m     59\u001b[0m     \u001b[38;5;66;03m# A TypeError occurs if the object does have such a method in its\u001b[39;00m\n\u001b[1;32m     60\u001b[0m     \u001b[38;5;66;03m# class, but its signature is not identical to that of NumPy's. This\u001b[39;00m\n\u001b[0;32m   (...)\u001b[0m\n\u001b[1;32m     64\u001b[0m     \u001b[38;5;66;03m# Call _wrapit from within the except clause to ensure a potential\u001b[39;00m\n\u001b[1;32m     65\u001b[0m     \u001b[38;5;66;03m# exception has a traceback chain.\u001b[39;00m\n\u001b[1;32m     66\u001b[0m     \u001b[38;5;28;01mreturn\u001b[39;00m _wrapit(obj, method, \u001b[38;5;241m*\u001b[39margs, \u001b[38;5;241m*\u001b[39m\u001b[38;5;241m*\u001b[39mkwds)\n",
      "\u001b[0;31mKeyboardInterrupt\u001b[0m: "
     ]
    }
   ],
   "source": [
    "suffix = 'train'\n",
    "plot = True\n",
    "num_simulations = 50000 if suffix == 'train' else 5000\n",
    "time_space = df_obs['Time'] # 50\n",
    "t0 = 0\n",
    "tmax = 300\n",
    "time_courses = np.empty((num_simulations, len(time_space), 4)) # 2 is the number of population/features\n",
    "parameters = np.empty((num_simulations, 7)) # alpha, beta, delta, x0, y0, eps1, eps2\n",
    "\n",
    "sampler = qmc.LatinHypercube(d=3)\n",
    "sample = sampler.random(n=num_simulations)\n",
    "\n",
    "l_bounds = [1e-4, 1e-4, 1e-4]\n",
    "u_bounds = [0.018, 0.1, 0.015]\n",
    "\n",
    "#  alpha = 0.0024\n",
    "#  beta  = 1/20 = 0.05\n",
    "#  delta = 0.0005\n",
    "\n",
    "sample_scaled = qmc.scale(sample, l_bounds, u_bounds)\n",
    "\n",
    "prior_means = [0.008, 0.01, 0.003, 6.0, 9.0, 0.0, 0.0]\n",
    "prior_sds = [0.01, 0.04, 0.01, 0.8, 1.5, 0.1, 0.15]\n",
    "\n",
    "for i in trange(num_simulations):\n",
    "  \n",
    "  #  alpha = 0.0024\n",
    "  #  beta  = 1/20 = 0.05\n",
    "  #  delta = 0.0005\n",
    "  # Truncated normal allows to enforce non-negativety constraint on the parameters\n",
    "  # However, further studies are needed to determine whether this is necessary\n",
    "  alpha = sample_scaled[i, 0]\n",
    "  beta = sample_scaled[i, 1]\n",
    "  delta = sample_scaled[i, 2]\n",
    "  # alpha = sample_truncnorm(prior_means[0], prior_sds[0], 0, np.inf)\n",
    "  # beta = sample_truncnorm(prior_means[1], prior_sds[1], 0, np.inf)\n",
    "  # delta = sample_truncnorm(prior_means[2], prior_sds[2], 0, np.inf)\n",
    "  x0_log = np.random.normal(prior_means[3], prior_sds[3]) \n",
    "  y0_log = np.random.normal(prior_means[4], prior_sds[4])\n",
    "  eps1 = sample_truncnorm(prior_means[5], prior_sds[5], 0, np.inf)\n",
    "  eps2 = sample_truncnorm(prior_means[6], prior_sds[6], 0, np.inf)\n",
    "\n",
    "  x0 = np.exp(x0_log)\n",
    "  y0 = np.exp(y0_log)\n",
    "  \n",
    "  assert all(t <= tmax and t >= t0 for t in time_space)\n",
    "  state0 = [x0, y0]\n",
    "  res = solve_ivp(ode_system, [t0, tmax], y0=state0, t_eval=time_space, args=(alpha, beta, delta))\n",
    "  \n",
    "  # Extract the individual trajectories.\n",
    "  x, y = res.y\n",
    "\n",
    "  # Add noise: Multiplicative noise\n",
    "  log_x_noise = np.log(x) + np.random.normal(0, eps1, len(x))\n",
    "  log_y_noise = np.log(y) + np.random.normal(0, eps2, len(y))\n",
    "\n",
    "  x_noise = np.exp(log_x_noise)\n",
    "  y_noise = np.exp(log_y_noise)\n",
    "\n",
    "  parameters[i] = [alpha, beta, delta, x0, y0, eps1, eps2]\n",
    "  time_courses[i] = np.array([x, y, x_noise, y_noise]).T\n",
    "\n",
    "if not os.path.exists('./data_2'):\n",
    "  os.makedirs('./data_2')\n",
    "\n",
    "if plot:\n",
    "  # Plot the first 30 strains\n",
    "  fig, axs = plt.subplots(10, 3, figsize=(6, 15))\n",
    "\n",
    "  for i in range(10):\n",
    "      for j in range(3):\n",
    "          ax = axs[i, j]\n",
    "          y = time_courses[i*3 + j]\n",
    "          s = np.mean(abs(y), axis = 0)\n",
    "          ax.plot(time_courses[i*3 + j])  # Change this line\n",
    "\n",
    "  plt.tight_layout()\n",
    "  plt.savefig(f'./data_2/two_compt_{suffix}.png')\n",
    "  plt.show()\n",
    "\n",
    "# Save parameters\n",
    "np.save(f'./data_2/two_compt_sims_{suffix}.npy', time_courses)\n",
    "np.save(f'./data_2/two_compt_params_{suffix}.npy', parameters)"
   ]
  }
 ],
 "metadata": {
  "kernelspec": {
   "display_name": ".venv",
   "language": "python",
   "name": "python3"
  },
  "language_info": {
   "codemirror_mode": {
    "name": "ipython",
    "version": 3
   },
   "file_extension": ".py",
   "mimetype": "text/x-python",
   "name": "python",
   "nbconvert_exporter": "python",
   "pygments_lexer": "ipython3",
   "version": "3.10.12"
  }
 },
 "nbformat": 4,
 "nbformat_minor": 2
}
